{
 "cells": [
  {
   "cell_type": "code",
   "execution_count": 1,
   "id": "cd20762f-6862-40ca-9733-ba1b5b18b29e",
   "metadata": {},
   "outputs": [],
   "source": [
    "import pandas as pd\n",
    "import numpy as np\n",
    "\n",
    "\n",
    "import torch\n",
    "import torch.nn as nn\n",
    "import torch.nn.functional as F\n",
    "\n",
    "from torch.utils.data import DataLoader, Dataset\n",
    "\n",
    "from tqdm.notebook import tqdm\n",
    "\n",
    "import matplotlib.pyplot as plt\n",
    "plt.style.use(\"seaborn-v0_8\")"
   ]
  },
  {
   "cell_type": "code",
   "execution_count": 2,
   "id": "86a5d6e1-e7a6-4547-aec5-980fc605879f",
   "metadata": {},
   "outputs": [],
   "source": [
    "device = \"cuda\" if torch.cuda.is_available() else \"cpu\"\n",
    "\n",
    "class NeuralNetwork(nn.Module):\n",
    "    \n",
    "    def __init__(self, layer_sizes, activation=F.relu):\n",
    "        super(NeuralNetwork, self).__init__()\n",
    "        self.linears = nn.ModuleList(\n",
    "            [nn.Linear(v, layer_sizes[i+1]) for i, v in enumerate(layer_sizes[:-1])]\n",
    "        )\n",
    "        self.activation = activation\n",
    "        \n",
    "    def forward(self, x):\n",
    "        for l in self.linears[:-1]:\n",
    "            x = self.activation(l(x))\n",
    "\n",
    "        x = self.linears[-1](x)\n",
    "        x = F.sigmoid(x)\n",
    "            \n",
    "        return x"
   ]
  },
  {
   "cell_type": "code",
   "execution_count": 3,
   "id": "da3543c8-ba75-4588-a35d-581ab17532b6",
   "metadata": {},
   "outputs": [],
   "source": [
    "X = torch.Tensor([[0, 0], [0, 1], [1, 0], [1, 1]])\n",
    "y = torch.Tensor([0, 1, 1, 0]).reshape(-1, 1)"
   ]
  },
  {
   "cell_type": "code",
   "execution_count": 4,
   "id": "f548c0cf-db5b-4185-bb18-077f4ed6d7e2",
   "metadata": {},
   "outputs": [],
   "source": [
    "class XORDataset(Dataset):\n",
    "\n",
    "    def __init__(self, X, y):\n",
    "        self.X = X\n",
    "        self.y = y\n",
    "\n",
    "    def __len__(self):\n",
    "        return len(self.y)\n",
    "\n",
    "    def __getitem__(self, index):\n",
    "        return self.X[index].to(device), self.y[index].to(device)"
   ]
  },
  {
   "cell_type": "code",
   "execution_count": 5,
   "id": "56cb5d9a-7225-49f0-8da1-aa8426079e0d",
   "metadata": {},
   "outputs": [],
   "source": [
    "xor_data = XORDataset(X, y)\n",
    "xor_dataloader = DataLoader(xor_data, batch_size=4, shuffle=True)"
   ]
  },
  {
   "cell_type": "code",
   "execution_count": 6,
   "id": "278db6cf-676d-4713-bc2c-b2456333793c",
   "metadata": {},
   "outputs": [
    {
     "name": "stdout",
     "output_type": "stream",
     "text": [
      "Final loss = 0.002303487155586481\n"
     ]
    },
    {
     "data": {
      "image/png": "[encoded data removed]",
      "text/plain": [
       "<Figure size 800x550 with 1 Axes>"
      ]
     },
     "metadata": {},
     "output_type": "display_data"
    }
   ],
   "source": [
    "LEARNING_RATE = 0.05\n",
    "NUM_EPOCHS = 1000\n",
    "\n",
    "layers = [2, 2, 1]\n",
    "xor = NeuralNetwork(layers, activation=F.sigmoid).to(device)\n",
    "criterion = nn.BCELoss().to(device)\n",
    "optimizer = torch.optim.Adam(xor.parameters(), lr=LEARNING_RATE)\n",
    "losses = []\n",
    "\n",
    "for epoch in range(NUM_EPOCHS):\n",
    "\n",
    "    for batch_inputs, batch_labels in xor_dataloader:\n",
    "    \n",
    "        optimizer.zero_grad()\n",
    "        outputs = xor(batch_inputs)\n",
    "        loss = criterion(outputs, batch_labels)\n",
    "        \n",
    "        loss.backward()\n",
    "        optimizer.step()\n",
    "        \n",
    "        losses.append(loss.item())\n",
    "\n",
    "    # print(f\"Finished epoch {epoch+1} / {NUM_EPOCHS}\")\n",
    "    \n",
    "\n",
    "print(f\"Final loss = {losses[-1]}\")\n",
    "plt.plot(range(NUM_EPOCHS), losses)\n",
    "plt.show()"
   ]
  },
  {
   "cell_type": "code",
   "execution_count": 7,
   "id": "b48ee559-74f3-43ae-b92c-21ead3b881a4",
   "metadata": {},
   "outputs": [
    {
     "name": "stdout",
     "output_type": "stream",
     "text": [
      "tensor([[0.0025],\n",
      "        [0.9974],\n",
      "        [0.9981],\n",
      "        [0.0023]], device='cuda:0', grad_fn=<SigmoidBackward0>)\n"
     ]
    }
   ],
   "source": [
    "preds = xor(X.to(device))\n",
    "print(preds)"
   ]
  },
  {
   "cell_type": "code",
   "execution_count": 15,
   "id": "f5a972a4-89ed-443c-b044-501794dd8c9f",
   "metadata": {},
   "outputs": [],
   "source": [
    "params = dict(xor.named_parameters())"
   ]
  },
  {
   "cell_type": "code",
   "execution_count": 39,
   "id": "2cc4271a-dccc-4b02-bd3d-828364926166",
   "metadata": {
    "scrolled": true
   },
   "outputs": [
    {
     "name": "stdout",
     "output_type": "stream",
     "text": [
      "tensor([[0.0020],\n",
      "        [1.0000],\n",
      "        [1.0000],\n",
      "        [0.0020]], device='cuda:0', grad_fn=<SigmoidBackward0>)\n"
     ]
    }
   ],
   "source": [
    "Xd = X.to(device)\n",
    "l1_out = Xd @ params['linears.0.weight'].t() + params['linears.0.bias']\n",
    "l1_act = F.relu(l1_out)\n",
    "l2_out = l1_act @ params['linears.1.weight'].t() + params['linears.1.bias']\n",
    "l2_act = F.sigmoid(l2_out)\n",
    "\n",
    "print(l2_act)"
   ]
  },
  {
   "cell_type": "code",
   "execution_count": 31,
   "id": "2f8dd607-b2cb-4470-bab1-271c5ac916d0",
   "metadata": {},
   "outputs": [
    {
     "name": "stdout",
     "output_type": "stream",
     "text": [
      "linears.0.weight Parameter containing:\n",
      "tensor([[-9.5977,  9.0014],\n",
      "        [ 8.8874, -9.1968]], device='cuda:0', requires_grad=True)\n",
      "linears.0.bias Parameter containing:\n",
      "tensor([-4.6836, -4.8442], device='cuda:0', requires_grad=True)\n",
      "linears.1.weight Parameter containing:\n",
      "tensor([[12.3393, 12.7158]], device='cuda:0', requires_grad=True)\n",
      "linears.1.bias Parameter containing:\n",
      "tensor([-6.2082], device='cuda:0', requires_grad=True)\n"
     ]
    }
   ],
   "source": [
    "for k,v  in params.items():\n",
    "    print(k, v)"
   ]
  },
  {
   "cell_type": "code",
   "execution_count": null,
   "id": "d47f6552-9529-4f04-8e8f-433f38fcdc80",
   "metadata": {},
   "outputs": [],
   "source": []
  }
 ],
 "metadata": {
  "kernelspec": {
   "display_name": "Python 3 (ipykernel)",
   "language": "python",
   "name": "python3"
  },
  "language_info": {
   "codemirror_mode": {
    "name": "ipython",
    "version": 3
   },
   "file_extension": ".py",
   "mimetype": "text/x-python",
   "name": "python",
   "nbconvert_exporter": "python",
   "pygments_lexer": "ipython3",
   "version": "3.11.7"
  }
 },
 "nbformat": 4,
 "nbformat_minor": 5
}
