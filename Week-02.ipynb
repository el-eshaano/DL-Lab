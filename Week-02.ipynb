{
 "cells": [
  {
   "cell_type": "code",
   "execution_count": 70,
   "id": "3735e5b4-492d-4e4f-8baf-7efac930f8a6",
   "metadata": {},
   "outputs": [],
   "source": [
    "import torch"
   ]
  },
  {
   "cell_type": "markdown",
   "id": "d5c515fc-dd50-43e8-9fe7-48c22ff0a015",
   "metadata": {},
   "source": [
    "## Q1"
   ]
  },
  {
   "cell_type": "code",
   "execution_count": 121,
   "id": "e78c572c-6958-4a48-af4e-c8de25f20fa5",
   "metadata": {},
   "outputs": [],
   "source": [
    "a = torch.Tensor([2]).requires_grad_(True)\n",
    "b = torch.Tensor([3]).requires_grad_(True)"
   ]
  },
  {
   "cell_type": "code",
   "execution_count": 126,
   "id": "94765cd2-6f0e-41d7-acef-1688d1fa50ab",
   "metadata": {},
   "outputs": [],
   "source": [
    "x = 2*a + 3*b\n",
    "y = 5*a*a + 3*b*b*b\n",
    "\n",
    "z = 2*x + 3*y"
   ]
  },
  {
   "cell_type": "code",
   "execution_count": 127,
   "id": "b33133f0-e46d-4bf3-b5e6-341ccbea5119",
   "metadata": {},
   "outputs": [],
   "source": [
    "z.backward()"
   ]
  },
  {
   "cell_type": "code",
   "execution_count": 128,
   "id": "0e22e2ec-580b-4d58-87ec-ee7c0ea7f42e",
   "metadata": {},
   "outputs": [],
   "source": [
    "def analytical(a, b):\n",
    "    return 4 + 30 * a"
   ]
  },
  {
   "cell_type": "code",
   "execution_count": 129,
   "id": "ee3e2a7b-e360-4ee5-b8ac-795e59025392",
   "metadata": {},
   "outputs": [
    {
     "name": "stdout",
     "output_type": "stream",
     "text": [
      "tensor([64.]) tensor([64.], grad_fn=<AddBackward0>)\n",
      "tensor([249.])\n"
     ]
    }
   ],
   "source": [
    "print(a.grad, analytical(a, b))\n",
    "print(b.grad)"
   ]
  },
  {
   "cell_type": "markdown",
   "id": "3fcb29c5-e98d-4d63-9f84-42b38c4a8510",
   "metadata": {},
   "source": [
    "## Q2 + Q3"
   ]
  },
  {
   "cell_type": "code",
   "execution_count": 141,
   "id": "3bcb5a6c-60f4-483d-be4f-f7ec37454253",
   "metadata": {},
   "outputs": [],
   "source": [
    "def ReLU(x):\n",
    "    return max(0, x)\n",
    "\n",
    "def sigmoid(x):\n",
    "    return 1 / (1 + torch.exp(-x))\n",
    "\n",
    "b = torch.Tensor([1]).requires_grad_(True)\n",
    "x = torch.Tensor([1]).requires_grad_(True)\n",
    "w = torch.Tensor([1]).requires_grad_(True)\n",
    "\n",
    "u = x * w\n",
    "v = u + b\n",
    "a = ReLU(v)\n",
    "c = sigmoid(v)"
   ]
  },
  {
   "cell_type": "code",
   "execution_count": 142,
   "id": "aea5f711-1cbc-4239-addf-1a81087950c7",
   "metadata": {},
   "outputs": [],
   "source": [
    "def analytical_a(x, w, b):\n",
    "    return x\n",
    "\n",
    "def analytical_c(x, w, b):\n",
    "    return sigmoid(x*w + b) * (1- sigmoid(w*x+b)) * x"
   ]
  },
  {
   "cell_type": "code",
   "execution_count": 139,
   "id": "7deb1be8-f457-42cc-99a9-7b50acb58c4e",
   "metadata": {},
   "outputs": [
    {
     "name": "stdout",
     "output_type": "stream",
     "text": [
      "tensor([1.]) tensor([1.], requires_grad=True)\n"
     ]
    }
   ],
   "source": [
    "a.backward()\n",
    "\n",
    "print(w.grad, analytical_a(x, w, b))"
   ]
  },
  {
   "cell_type": "code",
   "execution_count": 143,
   "id": "79592261-6a74-440b-851b-3e42f44b7547",
   "metadata": {},
   "outputs": [
    {
     "name": "stdout",
     "output_type": "stream",
     "text": [
      "tensor([0.1050]) tensor([0.1050], grad_fn=<MulBackward0>)\n"
     ]
    }
   ],
   "source": [
    "c.backward()\n",
    "\n",
    "print(w.grad, analytical_c(x, w, b))"
   ]
  },
  {
   "cell_type": "markdown",
   "id": "317f9382-872f-4dfd-8f52-d6024cbeef9f",
   "metadata": {},
   "source": [
    "## Q4"
   ]
  },
  {
   "cell_type": "code",
   "execution_count": 84,
   "id": "d3ba7e83-5ae3-4874-9761-4ec6004a0482",
   "metadata": {},
   "outputs": [],
   "source": [
    "x = torch.Tensor([5]).requires_grad_(True)\n",
    "\n",
    "a = -1 * torch.sin(x)\n",
    "b = -2*x\n",
    "c = -1 * x ** 2\n",
    "\n",
    "u = a + b + c\n",
    "y = torch.exp(u)"
   ]
  },
  {
   "cell_type": "code",
   "execution_count": 85,
   "id": "50fb6492-abeb-4c79-a107-7e2b67118f9f",
   "metadata": {},
   "outputs": [
    {
     "name": "stdout",
     "output_type": "stream",
     "text": [
      "tensor([-2.0206e-14])\n"
     ]
    }
   ],
   "source": [
    "y.backward()\n",
    "\n",
    "print(x.grad)"
   ]
  },
  {
   "cell_type": "markdown",
   "id": "0de0bdac-83b3-43b5-9d29-faf719e98348",
   "metadata": {},
   "source": [
    "## Q5"
   ]
  },
  {
   "cell_type": "code",
   "execution_count": 89,
   "id": "b27559e5-2099-4e76-a432-7d5cc0419372",
   "metadata": {},
   "outputs": [],
   "source": [
    "x = torch.Tensor([5]).requires_grad_(True)\n",
    "\n",
    "y = 8 * x**4 + 3 * x**3 + 7 * x**2 + 6 * x + 3"
   ]
  },
  {
   "cell_type": "code",
   "execution_count": 90,
   "id": "7cea3664-52bc-4f27-869d-9ac82b91b8ee",
   "metadata": {},
   "outputs": [
    {
     "data": {
      "text/plain": [
       "tensor([4301.])"
      ]
     },
     "execution_count": 90,
     "metadata": {},
     "output_type": "execute_result"
    }
   ],
   "source": [
    "y.backward()\n",
    "\n",
    "x.grad"
   ]
  },
  {
   "cell_type": "markdown",
   "id": "2b466eb5-859c-463e-a992-28b1d5c798fa",
   "metadata": {},
   "source": [
    "## Q6"
   ]
  },
  {
   "cell_type": "code",
   "execution_count": 98,
   "id": "3aeb9317-8de1-4cb2-abb3-890efab10e41",
   "metadata": {},
   "outputs": [],
   "source": [
    "x = torch.Tensor([1]).requires_grad_(True)\n",
    "y = torch.Tensor([2]).requires_grad_(True)\n",
    "z = torch.Tensor([3]).requires_grad_(True)"
   ]
  },
  {
   "cell_type": "code",
   "execution_count": 110,
   "id": "5cb1a605-563f-4a90-9497-1b70cab3e314",
   "metadata": {},
   "outputs": [],
   "source": [
    "a = 2*x\n",
    "b = torch.sin(y)\n",
    "c = a / b\n",
    "d = c*z\n",
    "e = torch.log(d+1)\n",
    "f = torch.tanh(e)"
   ]
  },
  {
   "cell_type": "code",
   "execution_count": 100,
   "id": "ccc15f27-a2fc-4aca-9367-b2c4c024a3d2",
   "metadata": {},
   "outputs": [
    {
     "name": "stdout",
     "output_type": "stream",
     "text": [
      "tensor([0.0581])\n",
      "tensor([0.0266])\n",
      "tensor([0.0194])\n"
     ]
    }
   ],
   "source": [
    "f.backward()\n",
    "\n",
    "print(x.grad)\n",
    "print(y.grad)\n",
    "print(z.grad)"
   ]
  }
 ],
 "metadata": {
  "kernelspec": {
   "display_name": "Python 3 (ipykernel)",
   "language": "python",
   "name": "python3"
  },
  "language_info": {
   "codemirror_mode": {
    "name": "ipython",
    "version": 3
   },
   "file_extension": ".py",
   "mimetype": "text/x-python",
   "name": "python",
   "nbconvert_exporter": "python",
   "pygments_lexer": "ipython3",
   "version": "3.11.7"
  }
 },
 "nbformat": 4,
 "nbformat_minor": 5
}
