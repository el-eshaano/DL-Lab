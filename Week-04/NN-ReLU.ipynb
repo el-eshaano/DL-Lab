{
 "cells": [
  {
   "cell_type": "code",
   "execution_count": 7,
   "id": "a282e1c9-03d2-4836-a5de-fa1f01282c1e",
   "metadata": {},
   "outputs": [],
   "source": [
    "import pandas as pd\n",
    "import numpy as np\n",
    "\n",
    "\n",
    "import torch\n",
    "import torch.nn as nn\n",
    "import torch.nn.functional as F\n",
    "\n",
    "from torch.utils.data import DataLoader, Dataset\n",
    "\n",
    "from tqdm.notebook import tqdm\n",
    "\n",
    "import matplotlib.pyplot as plt\n",
    "plt.style.use(\"seaborn-v0_8\")"
   ]
  },
  {
   "cell_type": "code",
   "execution_count": 8,
   "id": "7780d11b-dcc8-471d-ae3e-0acf5b06c90e",
   "metadata": {},
   "outputs": [],
   "source": [
    "device = \"cuda\" if torch.cuda.is_available() else \"cpu\"\n",
    "\n",
    "class NeuralNetwork(nn.Module):\n",
    "    \n",
    "    def __init__(self, layer_sizes, activation=F.relu):\n",
    "        super(NeuralNetwork, self).__init__()\n",
    "        self.linears = nn.ModuleList(\n",
    "            [nn.Linear(v, layer_sizes[i+1]) for i, v in enumerate(layer_sizes[:-1])]\n",
    "        )\n",
    "        self.activation = activation\n",
    "        \n",
    "    def forward(self, x):\n",
    "        for l in self.linears[:-1]:\n",
    "            x = self.activation(l(x))\n",
    "\n",
    "        x = self.linears[-1](x)\n",
    "        x = F.sigmoid(x)\n",
    "            \n",
    "        return x"
   ]
  },
  {
   "cell_type": "code",
   "execution_count": 9,
   "id": "7f2aa634-ea7a-44d8-b5af-08e2d70be1a3",
   "metadata": {},
   "outputs": [],
   "source": [
    "X = torch.Tensor([[0, 0], [0, 1], [1, 0], [1, 1]])\n",
    "y = torch.Tensor([0, 1, 1, 0]).reshape(-1, 1)"
   ]
  },
  {
   "cell_type": "code",
   "execution_count": 10,
   "id": "9493dab2-5c0c-49cd-a8a4-09e6b51c106c",
   "metadata": {},
   "outputs": [],
   "source": [
    "class XORDataset(Dataset):\n",
    "\n",
    "    def __init__(self, X, y):\n",
    "        self.X = X\n",
    "        self.y = y\n",
    "\n",
    "    def __len__(self):\n",
    "        return len(self.y)\n",
    "\n",
    "    def __getitem__(self, index):\n",
    "        return self.X[index].to(device), self.y[index].to(device)"
   ]
  },
  {
   "cell_type": "code",
   "execution_count": 11,
   "id": "2a8f26d8-c6cc-4083-a2bc-0097d2e3021b",
   "metadata": {},
   "outputs": [],
   "source": [
    "xor_data = XORDataset(X, y)\n",
    "xor_dataloader = DataLoader(xor_data, batch_size=4, shuffle=True)"
   ]
  },
  {
   "cell_type": "code",
   "execution_count": 18,
   "id": "39dda97d-8863-448d-889a-850283a63537",
   "metadata": {},
   "outputs": [
    {
     "name": "stdout",
     "output_type": "stream",
     "text": [
      "Final loss = 0.001399109372869134\n"
     ]
    },
    {
     "data": {
      "image/png": "[encoded data removed]",
      "text/plain": [
       "<Figure size 800x550 with 1 Axes>"
      ]
     },
     "metadata": {},
     "output_type": "display_data"
    }
   ],
   "source": [
    "LEARNING_RATE = 0.05\n",
    "NUM_EPOCHS = 500\n",
    "\n",
    "layers = [2, 6, 3, 1]\n",
    "# (2, 6), (6, 3), (3, 1)\n",
    "xor = NeuralNetwork(layers, activation=F.relu).to(device)\n",
    "criterion = nn.BCELoss().to(device)\n",
    "optimizer = torch.optim.Adam(xor.parameters(), lr=LEARNING_RATE)\n",
    "losses = []\n",
    "\n",
    "for epoch in range(NUM_EPOCHS):\n",
    "\n",
    "    for batch_inputs, batch_labels in xor_dataloader:\n",
    "    \n",
    "        optimizer.zero_grad()\n",
    "        outputs = xor(batch_inputs)\n",
    "        loss = criterion(outputs, batch_labels)\n",
    "        \n",
    "        loss.backward()\n",
    "        optimizer.step()\n",
    "        \n",
    "        losses.append(loss.item())\n",
    "    \n",
    "\n",
    "print(f\"Final loss = {losses[-1]}\")\n",
    "plt.plot(range(NUM_EPOCHS), losses)\n",
    "plt.show()"
   ]
  },
  {
   "cell_type": "code",
   "execution_count": 19,
   "id": "cbe8b339-cc7c-4eec-b91e-3f72a702baa6",
   "metadata": {},
   "outputs": [
    {
     "name": "stdout",
     "output_type": "stream",
     "text": [
      "tensor([[0.0028],\n",
      "        [1.0000],\n",
      "        [1.0000],\n",
      "        [0.0028]], device='cuda:0', grad_fn=<SigmoidBackward0>)\n"
     ]
    }
   ],
   "source": [
    "preds = xor(X.to(device))\n",
    "print(preds)"
   ]
  }
 ],
 "metadata": {
  "kernelspec": {
   "display_name": "Python 3 (ipykernel)",
   "language": "python",
   "name": "python3"
  },
  "language_info": {
   "codemirror_mode": {
    "name": "ipython",
    "version": 3
   },
   "file_extension": ".py",
   "mimetype": "text/x-python",
   "name": "python",
   "nbconvert_exporter": "python",
   "pygments_lexer": "ipython3",
   "version": "3.11.7"
  }
 },
 "nbformat": 4,
 "nbformat_minor": 5
}
